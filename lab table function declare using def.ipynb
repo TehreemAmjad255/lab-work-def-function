{
 "cells": [
  {
   "cell_type": "code",
   "execution_count": 5,
   "id": "15a8c02c",
   "metadata": {},
   "outputs": [
    {
     "name": "stdout",
     "output_type": "stream",
     "text": [
      "the number whose table you want6\n",
      "6 x 1 = 6\n",
      "6 x 2 = 12\n",
      "6 x 3 = 18\n",
      "6 x 4 = 24\n",
      "6 x 5 = 30\n",
      "6 x 6 = 36\n",
      "6 x 7 = 42\n",
      "6 x 8 = 48\n",
      "6 x 9 = 54\n",
      "6 x 10 = 60\n"
     ]
    }
   ],
   "source": [
    "def print_table(num):\n",
    "    for i in range(1,11):\n",
    "        print(num,'x',i,'=',num*i)\n",
    "n=int(input(\"the number whose table you want\"))\n",
    "print_table(n)"
   ]
  },
  {
   "cell_type": "code",
   "execution_count": 6,
   "id": "41a18bec",
   "metadata": {},
   "outputs": [
    {
     "name": "stdout",
     "output_type": "stream",
     "text": [
      "the number whose table you want45\n",
      "45 x 1 = 45\n",
      "45 x 2 = 90\n",
      "45 x 3 = 135\n",
      "45 x 4 = 180\n",
      "45 x 5 = 225\n",
      "45 x 6 = 270\n",
      "45 x 7 = 315\n",
      "45 x 8 = 360\n",
      "45 x 9 = 405\n",
      "45 x 10 = 450\n"
     ]
    }
   ],
   "source": [
    "def print_table(num):\n",
    "    for i in range(1,11):\n",
    "        print(num,'x',i,'=',num*i)\n",
    "n=int(input(\"the number whose table you want\"))\n",
    "print_table(n)"
   ]
  },
  {
   "cell_type": "code",
   "execution_count": 7,
   "id": "2966eebe",
   "metadata": {},
   "outputs": [
    {
     "name": "stdout",
     "output_type": "stream",
     "text": [
      "the number whose table you want9999\n",
      "9999 x 1 = 9999\n",
      "9999 x 2 = 19998\n",
      "9999 x 3 = 29997\n",
      "9999 x 4 = 39996\n",
      "9999 x 5 = 49995\n",
      "9999 x 6 = 59994\n",
      "9999 x 7 = 69993\n",
      "9999 x 8 = 79992\n",
      "9999 x 9 = 89991\n",
      "9999 x 10 = 99990\n"
     ]
    }
   ],
   "source": [
    "def print_table(num):\n",
    "    for i in range(1,11):\n",
    "        print(num,'x',i,'=',num*i)\n",
    "n=int(input(\"the number whose table you want\"))\n",
    "print_table(n)"
   ]
  },
  {
   "cell_type": "code",
   "execution_count": null,
   "id": "588c78ee",
   "metadata": {},
   "outputs": [],
   "source": []
  }
 ],
 "metadata": {
  "kernelspec": {
   "display_name": "Python 3",
   "language": "python",
   "name": "python3"
  },
  "language_info": {
   "codemirror_mode": {
    "name": "ipython",
    "version": 3
   },
   "file_extension": ".py",
   "mimetype": "text/x-python",
   "name": "python",
   "nbconvert_exporter": "python",
   "pygments_lexer": "ipython3",
   "version": "3.9.1"
  }
 },
 "nbformat": 4,
 "nbformat_minor": 5
}
